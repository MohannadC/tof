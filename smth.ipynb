{
 "cells": [
  {
   "cell_type": "markdown",
   "metadata": {},
   "source": [
    "## Time domain <a class=\"anchor\" id=\"section-2\"></a>"
   ]
  },
  {
   "cell_type": "code",
   "execution_count": null,
   "metadata": {},
   "outputs": [],
   "source": [
    "%matplotlib widget\n",
    "import numpy as np\n",
    "import pandas as pd\n",
    "import matplotlib.pyplot as plt\n",
    "from pylab import *\n",
    "from scipy.optimize import curve_fit\n",
    "from funcs import *\n",
    "\n",
    "fig, ax = plt.subplots()\n",
    "\n",
    "x_start=495\n",
    "x_end = 700\n",
    "x_interval = 50\n",
    "y_start = 0\n",
    "y_end = 0.25\n",
    "y_interval = 0.05\n",
    "decorate(ax, (x_start, x_end, x_interval), (y_start, y_end, y_interval),\n",
    "          r\"Time of flight (ns)\", r\"Yield\", set=False)\n",
    "\n",
    "data = read_file('./data/6k_low.txt', delimeter=None)[0]\n",
    "y, x, _ = plt.hist(data, 3000, alpha=0.5, density=True)\n",
    "x = (x[1:] + x[:-1])/2\n",
    "\n",
    "times, sigmas, widths = [], [], []\n",
    "energies = [14.40, 13.08, 11.27, 9.95, 8.16, 6.84]\n",
    "straight_times = time_of_flight(np.array(energies))\n",
    "\n",
    "bins = [(0, 509.2), (514.9, 540.8), (553.7, 583), (588.1, 626.4), (644.4, 686.7), (708.1, 732.3)]\n",
    "for i, lim in enumerate(bins):\n",
    "    start, stop = get_bins(lim, x)\n",
    "    peak_x, sig, width = approximate(x[start:stop], y[start:stop],\n",
    "                                     (straight_times[i], 1, 0, 1, 1), ax)\n",
    "    times.append(peak_x)\n",
    "    sigmas.append(sig)\n",
    "    widths.append(width)\n",
    "\n",
    "times, sigmas, widths = np.array(times), np.array(sigmas), np.array(widths)\n",
    "\n",
    "xr = np.arange(495, 735, 1)\n",
    "params, _ = curve_fit(time_to_energy, times, energies, (0, 0, 1117))\n",
    "print(f\"Fitted parameters:\\nt0 = {params[0]*1e9} ns\\nE0 = {params[1]} eV\\ns = {params[2]} mm\")\n",
    "\n",
    "ax2 = ax.twinx()\n",
    "ax2.scatter(times, energies, facecolors='#FFB6C1', edgecolors='r')\n",
    "ax2.plot(xr, time_to_energy(xr, *params), lw=1, c='red')\n",
    "\n",
    "d = {\n",
    "    \"Energy, eV\": energies[:len(times)],\n",
    "    \"Theory, ns\": straight_times[:len(times)],\n",
    "    \"t, ns\": times,\n",
    "    \"dt, ns\": widths,\n",
    "    \"dt/t, %\": widths/times*100,\n",
    "    \"dE/E, %\": widths/times*200,\n",
    "    \"dE, eV\": widths/times*energies,\n",
    "    \"Sigma, ns\": sigmas,\n",
    "}\n",
    "df = pd.DataFrame(data=d)\n",
    "df"
   ]
  },
  {
   "cell_type": "markdown",
   "metadata": {},
   "source": [
    "## Bundle's deviation <a class=\"anchor\" id=\"section-5\"></a>"
   ]
  },
  {
   "cell_type": "code",
   "execution_count": null,
   "metadata": {},
   "outputs": [],
   "source": [
    "%matplotlib widget\n",
    "import numpy as np\n",
    "import matplotlib.pyplot as plt\n",
    "from funcs import *\n",
    "\n",
    "fig, ax = plt.subplots()\n",
    "x_start = 6\n",
    "x_end = 15\n",
    "x_interval = 1\n",
    "y_start = 0\n",
    "y_end = 5\n",
    "y_interval = 1\n",
    "decorate(ax, (x_start, x_end, x_interval), (y_start, y_end, y_interval),\n",
    "          r\"E (eV)\", r\"Deviation (mm)\", set=False)\n",
    "\n",
    "x = np.arange(x_start, x_end, 1)\n",
    "energies = [14.40, 13.08, 11.27, 9.95, 8.16, 6.84]\n",
    "e, r = [], []\n",
    "with open(\"./data/dist_coords_low.txt\", \"r\") as f_c:\n",
    "    with open(\"./data/dist_energies_low.txt\", \"r\") as f_e:\n",
    "        while True:\n",
    "            s_c = f_c.readline()\n",
    "            s_e = f_e.readline()\n",
    "            if s_c == \"\" or s_e == \"\":\n",
    "                break\n",
    "            num_c = s_c.split()\n",
    "            num_e = s_e.split()\n",
    "            if float(num_c[2]) == 1127.0:\n",
    "                r.append(np.sqrt(float(num_c[1]) ** 2 + float(num_c[3]) ** 2))\n",
    "                e.append(float(num_e[1]))\n",
    "\n",
    "ax.scatter(e, r, s=0.25, c=\"red\", zorder=3)\n",
    "ax.vlines(energies, 0, 5, lw=1, color='b')"
   ]
  },
  {
   "cell_type": "markdown",
   "metadata": {},
   "source": [
    "## 23.76eV single peak <a class=\"anchor\" id=\"section-8\"></a>"
   ]
  },
  {
   "cell_type": "code",
   "execution_count": null,
   "metadata": {},
   "outputs": [],
   "source": [
    "%matplotlib inline\n",
    "import numpy as np\n",
    "import matplotlib.pyplot as plt\n",
    "from pylab import *\n",
    "from scipy.optimize import curve_fit\n",
    "from scipy.signal import peak_widths, find_peaks\n",
    "from funcs import time_of_flight, decorate\n",
    "\n",
    "fig, ax = plt.subplots(dpi=600)\n",
    "x_start = 389\n",
    "x_end = 393\n",
    "x_interval = 0.5\n",
    "y_start = 0\n",
    "y_end = 1\n",
    "y_interval = 0.1\n",
    "decorate(ax, (x_start, x_end, x_interval), (y_start, y_end, y_interval),\n",
    "    r\"Time of flight (ns)\", r\"Yield\", set=False)\n",
    "\n",
    "data, _ = read_file('./data/1k_24ev.txt', delimeter=None)\n",
    "y, x, _ = hist(data, 30, alpha=0.5, density=True)\n",
    "x = (x[1:] + x[:-1]) / 2"
   ]
  }
 ],
 "metadata": {
  "kernelspec": {
   "display_name": "Python 3",
   "language": "python",
   "name": "python3"
  },
  "language_info": {
   "codemirror_mode": {
    "name": "ipython",
    "version": 3
   },
   "file_extension": ".py",
   "mimetype": "text/x-python",
   "name": "python",
   "nbconvert_exporter": "python",
   "pygments_lexer": "ipython3",
   "version": "3.13.2"
  }
 },
 "nbformat": 4,
 "nbformat_minor": 2
}
